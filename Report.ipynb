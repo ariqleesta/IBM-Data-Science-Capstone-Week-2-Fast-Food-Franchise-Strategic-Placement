{
 "cells": [
  {
   "cell_type": "markdown",
   "metadata": {},
   "source": [
    "## Capstone: Fast Food Franchise Strategic Placement in Bandung City, West Java, Indonesia\n",
    "##### By Muhammad Ariqleesta Hidayat<br/>\n",
    "20 February 2020<br/>\n",
    "LinkedIn: https://www.linkedin.com/in/ariqleesta/ <br/>\n",
    "Github: https://github.com/ariqleesta/<br/>"
   ]
  },
  {
   "cell_type": "markdown",
   "metadata": {},
   "source": [
    "### Table of contents\n",
    "* [Introduction: Business Problem](#introduction)\n",
    "* [Data Requirements](#data)\n",
    "* [Methodology](#methodology)\n",
    "* [Analysis](#analysis)\n",
    "* [Results and Discussion](#results)\n",
    "* [Conclusion](#conclusion)"
   ]
  },
  {
   "cell_type": "markdown",
   "metadata": {},
   "source": [
    "### Introduction: Business Problem <a name=\"introduction\"></a>"
   ]
  },
  {
   "cell_type": "markdown",
   "metadata": {},
   "source": [
    "Owning a fast food franchise is one of the best choice for living with a promising income. Not only does the owner not need to pivot around advertising and marketing, but also to forgo the need of product development and quality control. However, it can be a costly venture. Let's say McDonalds. In Indonesia, you must have at least Rp 14,500,000,000 in total to start developing your franchise venue (equivalent to one million USD). Because the cost are unimaginably high, we need to consider a strategic placement for our franchise in order to get the best possible outcome that leads to the optimum amount of profit."
   ]
  },
  {
   "cell_type": "markdown",
   "metadata": {},
   "source": [
    "#### 1. Problem Description:\n",
    "Where would be the best place in Bandung, Indonesia to start a fast food franchise considering the socio-demographic and happiness index data of the population in districts?"
   ]
  },
  {
   "cell_type": "markdown",
   "metadata": {},
   "source": [
    "#### 2. Requirements:"
   ]
  },
  {
   "cell_type": "markdown",
   "metadata": {},
   "source": [
    "This project will adapt the following requirements:\n",
    "1. The franchise needs to be located in the middle of a concentrated area (denser population, culinary area, great in land use and support daily activity)\n",
    "2. The franchise needs to be located in the sub-districts that have large amount of social interactions and daily activities based on socio-demographic and happiness data\n",
    "3. In order to segment the sub-districts, it is needed to perform clustering based on the specifications above."
   ]
  },
  {
   "cell_type": "markdown",
   "metadata": {},
   "source": [
    "The franchises which will be our main focus are:\n",
    "1. McDonald's\n",
    "2. KFC\n",
    "3. Burger King\n",
    "4. Pizza Hut\n",
    "5. Domino's Pizza"
   ]
  },
  {
   "cell_type": "markdown",
   "metadata": {},
   "source": [
    "### Data Requirements: <a name=\"data\"></a>"
   ]
  },
  {
   "cell_type": "markdown",
   "metadata": {},
   "source": [
    "\n",
    "#### 1. Urban Data Postal Code\n",
    "The postal code data is needed to identify each region in Kota Bandung. In Indonesia, every sub-district in the city have at least 1 postal code (it can be more than one). We can do further analysis to help us specify which region belongs to each other.\n",
    "\n",
    "csv source:\n",
    "https://kodeposku.com/kodepos.csv"
   ]
  },
  {
   "cell_type": "markdown",
   "metadata": {},
   "source": [
    "#### 2. Sub-District Population Data\n",
    "This data will be used to determine how impactful is the sub-district toward the growth of franchise. This data contains 3 columns, there are population, density, and sub-district area. With this data, we can clearly see the distribution of population in Bandung city in contrast of sub-districs in Kota Bandung.\n",
    "\n",
    "csv source:\n",
    "http://data.bandung.go.id/dataset/79261e57-18fd-4d53-859e-971231f098d3/resource/498da194-30b0-4f55-8ddf-930e0d9c6953/download/tahun-2020-s1---jumlah-kepadatan-penduduk.csv"
   ]
  },
  {
   "cell_type": "markdown",
   "metadata": {},
   "source": [
    "#### 3. Urban District GeoJSON Data\n",
    "This data contains the boundaries of administrative area for each sub-district. This data is needed to classify franchises based on their sub-district by looking at its coordinate point inside the sub-district area. This data is also further needed to see how many franchises are located in a certain area of sub-district.\n",
    "\n",
    "csv source:\n",
    "https://git.bandung.go.id/opendatabdg/databdg/raw/master/resources/625/b2c/3273-kota-bandung-level-kecamatan.json"
   ]
  },
  {
   "cell_type": "markdown",
   "metadata": {},
   "source": [
    "#### 4. Fast Food Restaurant Venues Data\n",
    "We need to utilize **Foursquare API** to retrieve possible necessary features of fast food available in Bandung City. We will collect franchises data as these will be our main focus. There are:\n",
    "1. McDonald's\n",
    "2. KFC\n",
    "3. Burger King\n",
    "4. Pizza Hut\n",
    "5. Domino's Pizza\n",
    "To gather this data. \n",
    "\n",
    "API: https://api.foursquare.com."
   ]
  },
  {
   "cell_type": "markdown",
   "metadata": {},
   "source": [
    "#### 5. Happiness Index Data\n",
    "Happiness data index is useful to see the behavior of population in each district. Research shows that happiness impact productivity and have a strong correlation with social interaction. The higher the social interaction, the higher the purchasing power. \n",
    "\n",
    "csv source:\n",
    "http://data.bandung.go.id/dataset/96badd37-30e6-4a1c-922f-d6e3ee0587f3/resource/6134811e-6d89-45c6-965d-f58477a0b281/download/ik-berdasarkan-aspek-dan-kecamatan-2018.csv"
   ]
  },
  {
   "cell_type": "markdown",
   "metadata": {},
   "source": [
    "#### 6. Sub-District Population Salary Related to Happiness Index Data\n",
    "From here, we can get the data of average salary for each sub-district from extrapolating on Happiness Index Data.\n",
    "\n",
    "csv source:\n",
    "http://data.bandung.go.id/dataset/f934a63c-110f-4748-a099-1d0ce98bf3d4/resource/25f84b3f-9793-4f11-b79c-99924da66a35/download/ik-berdasarkan-pendapatan-rumah-tangga-2018.csv\n"
   ]
  },
  {
   "cell_type": "markdown",
   "metadata": {},
   "source": [
    "### Methodology <a name=\"methodology\"></a>\n",
    "\n",
    "The objective of this analysis is to give the best possible locations to place fast food franchise based on the socio-demographic and spatial data we gather before. The purposes of this analysis are to give information to the stakeholders who wants to place their fast food franchise and prevent them blindfoldedly making undesirable decisions. \n",
    "\n",
    "Before we can do further analysis, we want to have our data cleaned and completely neat and tidy. This part consists of combining all the data until they become sufficient enough to be utilized for gaining useful insights and making prediction. After all of the data are desirable to be utilized and far from flaws, then we can continue to the analysis section. The analysis section has four main parts as follows:\n",
    "\n",
    "* First, we will do basic exploratory data analysis. This section consists of gaining as much insights as possible by looking at the contributions of each features in our data. We will see how these features take part on other features. We will also see how these features vary on each different area of sub-districts in Bandung City.\n",
    "\n",
    "* Second, we will start gathering the aforementioned fast food restaurants data using Foursquare API. This data consists of coordinates of the venues that will be used for spatial merging with our sub-district geo-spatial data. \n",
    "\n",
    "* Third, we will start by making segments using agglomerative clustering hierarchical approach to find similiarity between sub-districts based on socio-demographic index and number of fast food franchise in those area. This section is the most crucial part as it leads to our goal to suggest the stakeholders for the best location to start placing their franchises.\n",
    "\n",
    "* Fourth, we will focus on evaluation. We will see how each cluster differs from each other. We will see which one is the best cluster that contains suitable sub-districts to set up our franchise. Then we can serve the results and draw conclusions.\n"
   ]
  },
  {
   "cell_type": "markdown",
   "metadata": {},
   "source": [
    "### Analysis <a name=\"analysis\"></a>"
   ]
  },
  {
   "cell_type": "markdown",
   "metadata": {},
   "source": [
    "This section consists of data cleansing, exploratory data analysis, and clustering. "
   ]
  },
  {
   "cell_type": "markdown",
   "metadata": {},
   "source": [
    "#### Data Cleansing"
   ]
  },
  {
   "cell_type": "markdown",
   "metadata": {},
   "source": [
    "This is the most time-consuming part over the process of this analysis. In this part, we load and combine all the data that have been mentioned above. We use fuzzy merge in order to combine data based on the name of the sub-districts without a must to be perfectly match (we set threshold for only 50% similiarity). We also use geo-pandas to manipulate the geoJSON dataframes to make insertion and deletion of the spatial data easier without having troubles or issues in visualizing the map."
   ]
  },
  {
   "cell_type": "markdown",
   "metadata": {},
   "source": [
    "#### Exploratory Data Analysis"
   ]
  },
  {
   "cell_type": "markdown",
   "metadata": {},
   "source": [
    "Here we are going to do some basic exploratory data analysis. is an approach/philosophy for data analysis that employs a variety of techniques (mostly graphical) to\n",
    "\n",
    "* maximize insight into a data set;\n",
    "* uncover underlying structure;\n",
    "* extract important variables;\n",
    "* detect outliers and anomalies;\n",
    "* test underlying assumptions;\n",
    "* develop parsimonious models; and\n",
    "* determine optimal factor settings.\n",
    "\n",
    "In this analysis, we mainly use only some parts of those techniques. First we see how each features correlates to each other by using pearson correlation. Then we make some graphs and plot the choropleths to see more clearly about the value of each feature in every sub-districts. This exploratory data analysis produce some insights as follows:"
   ]
  },
  {
   "cell_type": "markdown",
   "metadata": {},
   "source": [
    "![pop](pop.png \"pop\")"
   ]
  },
  {
   "cell_type": "markdown",
   "metadata": {},
   "source": [
    "![dense](dense.png \"dense\")"
   ]
  },
  {
   "cell_type": "markdown",
   "metadata": {},
   "source": [
    "![area](area.png \"area\")"
   ]
  },
  {
   "cell_type": "markdown",
   "metadata": {},
   "source": [
    "![salay](salary.png \"salary\")"
   ]
  },
  {
   "cell_type": "markdown",
   "metadata": {},
   "source": [
    "We can see from the graphs above, Sub-District Babakan Ciparay is the most populated sub-district in Bandung that has nearly 140000 citizen, followed by Bandung Kulon, and Kiara Condong. These districts contribute to around 15% of Bandung total population. When we look at the population density graph,  Bojongloa Kaler is on the first position with 396 people/hectare followed by Astana Anyar that has only 273 people/hectare. When we look at the area bar chart, Gedebage has the most extensive area over any sub-districts in Bandung despite its population is on the 5th position from bottom. That makes Gedebage is a sub-district that has the least density. When we compare about average monthly income, Sub-District Rancasari has the highest number among others which is 6 million IDR. The difference between Rancasari and Regol, the second highest who has only 3.2 million IDR, is significantly far."
   ]
  },
  {
   "cell_type": "markdown",
   "metadata": {},
   "source": [
    "![satisfaction](satis.png \"satisfaction\")"
   ]
  },
  {
   "cell_type": "markdown",
   "metadata": {},
   "source": [
    "We need to consider many aspects before we establish our business venue, one of which is social interaction. The number of social interaction impact greatly on the development of our business. Our business will grow faster as more people socialize within the sub-district. Rancasari, Regol, and Bandung Kulon have the three highest score for social interaction. Environment index is also considered an important aspect for customer's convinience. Regol has the highest score among any sub-districts with the score of 85.64, followed by Andir which has score 82.32.\n",
    "\n",
    "Family harmony, in the other hand, hypothetically plays a role in our food franchise development as a supportive aspect in this analysis. The more healthy the family connect, the more family gathering they hold. It will possibly result in an increase of purchases of our food business by the reason of increased family dinner, or even recreational eating out at weekends."
   ]
  },
  {
   "cell_type": "markdown",
   "metadata": {},
   "source": [
    "To make things clearer, we can plot the choroplenth to see the number of our parameters in each sub-district."
   ]
  },
  {
   "cell_type": "markdown",
   "metadata": {},
   "source": [
    "<p style=\"text-align: center;\"><b>Population Map</b></p>"
   ]
  },
  {
   "cell_type": "markdown",
   "metadata": {},
   "source": [
    "![population map](pop_map.png \"population map\")"
   ]
  },
  {
   "cell_type": "markdown",
   "metadata": {},
   "source": [
    "<p style=\"text-align: center;\"><b>Density Map</b></p>"
   ]
  },
  {
   "cell_type": "markdown",
   "metadata": {},
   "source": [
    "![density map](density_map.png \"density map\")"
   ]
  },
  {
   "cell_type": "markdown",
   "metadata": {},
   "source": [
    "<p style=\"text-align: center;\"><b>Average Monthly Income Map</b></p>"
   ]
  },
  {
   "cell_type": "markdown",
   "metadata": {},
   "source": [
    "![income map](income_map.png \"income map\")"
   ]
  },
  {
   "cell_type": "markdown",
   "metadata": {},
   "source": [
    "<p style=\"text-align: center;\"><b>Social Interaction Index Map</b></p>"
   ]
  },
  {
   "cell_type": "markdown",
   "metadata": {},
   "source": [
    "![social interaction map](social_interaction_map.png \"social interaction\")"
   ]
  },
  {
   "cell_type": "markdown",
   "metadata": {},
   "source": [
    "<p style=\"text-align: center;\"><b>Environment Index Map</b></p>"
   ]
  },
  {
   "cell_type": "markdown",
   "metadata": {},
   "source": [
    "![environment map](environment_index_map.png \"environment map\")"
   ]
  },
  {
   "cell_type": "markdown",
   "metadata": {},
   "source": [
    "<p style=\"text-align: center;\"><b>Family Harmony Index Map</b></p>"
   ]
  },
  {
   "cell_type": "markdown",
   "metadata": {},
   "source": [
    "![family harmony map](family_harmony_map.png \"family harmony\")"
   ]
  },
  {
   "cell_type": "markdown",
   "metadata": {},
   "source": [
    "#### Foursquare API"
   ]
  },
  {
   "cell_type": "markdown",
   "metadata": {},
   "source": [
    "Here we will start retrieving the franchise venues by using radius 6 km from the center of Bandung. Then we store all the venues data into geopandas dataframe and specify its point. We use geopandas because it make things easier to combine the data we have into our sub-district data because we can merge them together based on the availability of the venue points inside the sub-district polygons."
   ]
  },
  {
   "cell_type": "markdown",
   "metadata": {},
   "source": [
    "![ff map](ff_map.png \"franchise map\")"
   ]
  },
  {
   "cell_type": "markdown",
   "metadata": {},
   "source": [
    "This shows how the corresponding fast food franchises distributed across the city. There are 5 different colors which are <span style=\"color:orange\">**orange**</span>, <span style=\"color:red\">**red**</span>, <span style=\"color:brown\">**brown**</span>, <span style=\"color:#778899\">**grey**</span>, and <span style=\"color: blue\">**blue**</span> for **McDonald's**, **KFC**, **Burger King**, **Pizza Hut**, and **Domino's Pizza** respectively."
   ]
  },
  {
   "cell_type": "markdown",
   "metadata": {},
   "source": [
    "#### Clustering"
   ]
  },
  {
   "cell_type": "markdown",
   "metadata": {},
   "source": [
    "Before we cluster, we need to preprocess the data. We have venues data and sub-districts data that we have to combine using geopandas spatial merge with \"contains\" operants (it will group the points based on the polygon they are located). It makes us easier to group the venues based on what sub-district they are.\n",
    "\n",
    "Then we do one hot encoding for the venue data based on their names (McDonald's, KFC, and so on). There are 5 venues we will observed. Then we find the average of the value for each sub-district using groupby method.\n",
    "\n",
    "We continue to normalize the data using min max scaler function from scikit-learn, then we calculate the euclidian distance matrix. This matrix will be used to generate the dendrogram using complete linkage approach and generate the dendrogram as follows."
   ]
  },
  {
   "cell_type": "markdown",
   "metadata": {},
   "source": [
    "![dendro](dendro.png \"dendro\")"
   ]
  },
  {
   "cell_type": "markdown",
   "metadata": {},
   "source": [
    "Now, we can use the 'AgglomerativeClustering' function from scikit-learn library to cluster the dataset. The AgglomerativeClustering performs a hierarchical clustering using a bottom up approach. The linkage criteria determines the metric used for the merge strategy:\n",
    "\n",
    "-   Ward minimizes the sum of squared differences within all clusters. It is a variance-minimizing approach and in this sense is similar to the k-means objective function but tackled with an agglomerative hierarchical approach.\n",
    "-   Maximum or complete linkage minimizes the maximum distance between observations of pairs of clusters.\n",
    "-   Average linkage minimizes the average of the distances between all observations of pairs of clusters.\n",
    "\n",
    "From the dendrogram above, we can clearly see that the optimum number of cluster is 3 for agglomerative clustering. Now we apply the clustering method to the sub-districts to see how they segment each other based on the data we have and we got this result."
   ]
  },
  {
   "cell_type": "markdown",
   "metadata": {},
   "source": [
    "![table](table.png \"table\")"
   ]
  },
  {
   "cell_type": "markdown",
   "metadata": {},
   "source": [
    "![cluster_map](cluster_map.png \"cluster map\")"
   ]
  },
  {
   "cell_type": "markdown",
   "metadata": {},
   "source": [
    "We clearly see there are three cluster based on color of the area. The white cluster (**cluster 0**) dominating the city. Now we need to see which cluster is the best to place our franchise. **cluster 1** is the light blue one and **cluster 2** is the dark blue one."
   ]
  },
  {
   "cell_type": "markdown",
   "metadata": {},
   "source": [
    "#### Evaluation"
   ]
  },
  {
   "cell_type": "markdown",
   "metadata": {},
   "source": [
    "This section is focused on choosing which cluster is sufficient enough to place our franchise. We will compare the satisfaction index, average population, and average monthly income for each cluster as follows."
   ]
  },
  {
   "cell_type": "markdown",
   "metadata": {},
   "source": [
    "![satis_clus](satis_clus.png \"satis_clus\")"
   ]
  },
  {
   "cell_type": "markdown",
   "metadata": {},
   "source": [
    "As we can see from the graph above, the highest satisfaction index is owned by cluster 0."
   ]
  },
  {
   "cell_type": "markdown",
   "metadata": {},
   "source": [
    "![pop_clus](pop_clus.png \"pop_clus\")"
   ]
  },
  {
   "cell_type": "markdown",
   "metadata": {},
   "source": [
    "On the average population in each clusters, cluster 0 has the highest score. This occurs because cluster 0 has more possibilities for social activity to happen."
   ]
  },
  {
   "cell_type": "markdown",
   "metadata": {},
   "source": [
    "![income_clus](income_clus.png \"income_clus\")"
   ]
  },
  {
   "cell_type": "markdown",
   "metadata": {},
   "source": [
    "As we can see, cluster 0 has the highest average monthly income. This indicates that the purchasing power this cluster has is likely high."
   ]
  },
  {
   "cell_type": "markdown",
   "metadata": {},
   "source": [
    "![final_map](final_map.png \"final map\")"
   ]
  },
  {
   "cell_type": "markdown",
   "metadata": {},
   "source": [
    "Looking good. We now have several points of placement locations fairly close to more fast food franchises and culinary area, and we know that each of those locations has no more than two franchises in radius of 100 m but still in strategic area, and still inside the zero cluster sub-district. Any of those locations is a potential candidate for a new franchises, at least based on nearby competition."
   ]
  },
  {
   "cell_type": "markdown",
   "metadata": {},
   "source": [
    "### Results and Discussion <a name=\"results\"></a>"
   ]
  },
  {
   "cell_type": "markdown",
   "metadata": {},
   "source": [
    "As we built our list of sub-district within the best cluster, we see that our suggestion of franchise venues location in a sub-district has a tendency to spread across these top 5 sub-districts, which are on a greatest concentration of venues. This might seem obvious but it would also appear that these are some of the most affluent sub-district in Bandung so there appears to have a connection.\n",
    "\n",
    "When we built our agglomerative clustering model, we used distance matrix to generate dendrogram to tell us there was a lot of similarity between sub-district based on the socio-demographic data, satisfaction index, and the most common franchises contained with in. Really there was only 3 types of clusters in Bandung (this number is optimal based on dendrogram we see above). The vast majority of those were in 0 cluster. \n",
    "\n",
    "Of the 30 Bandung sub-districts gathered, only 15 sub-districts are above the median average monthly income. The rest are below the median average monthly income. It appears that the greatest concentration of affluence is on the center of Bandung. Because the majority of sub-districts belong to cluster 0, we decided to keep only top five sub-districts that seems to be the most affluent."
   ]
  },
  {
   "cell_type": "markdown",
   "metadata": {},
   "source": [
    "### Conclusion <a name=\"conclusion\"></a>"
   ]
  },
  {
   "cell_type": "markdown",
   "metadata": {},
   "source": [
    "In this study, we analyzed the relationship between the most affluent site of placement and socio-demographic data, satisfaction Index, and the possible competitors near the planned location. We build the agglomerative clustering model to see how each sub-districts segmented from each other. These analysis is fairly useful to be used in the future for making decision on venue placement or for further research. However, this analysis opens so many door for improvements in the future. For example, this analysis only segments the sub-districts based on the similarity because the socio-demographic data for urban village, hamlet, or even neighborhood are harder to gather. Perhaps we could make smaller division for clustering and put more effort in gathering more data. We could also replace the satisfaction data to a data that more reliable such as cencus data and behavioral data related to population needs of culinary.\n"
   ]
  }
 ],
 "metadata": {
  "kernelspec": {
   "display_name": "Python 3",
   "language": "python",
   "name": "python3"
  },
  "language_info": {
   "codemirror_mode": {
    "name": "ipython",
    "version": 3
   },
   "file_extension": ".py",
   "mimetype": "text/x-python",
   "name": "python",
   "nbconvert_exporter": "python",
   "pygments_lexer": "ipython3",
   "version": "3.8.5"
  }
 },
 "nbformat": 4,
 "nbformat_minor": 4
}
